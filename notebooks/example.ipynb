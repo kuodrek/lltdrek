{
 "cells": [
  {
   "cell_type": "markdown",
   "metadata": {},
   "source": [
    "# LLTDREK example"
   ]
  },
  {
   "cell_type": "code",
   "execution_count": 35,
   "metadata": {},
   "outputs": [],
   "source": [
    "import sys\n",
    "import os\n",
    "sys.path.append(os.path.abspath(\"..\"))\n",
    "\n",
    "from src import (\n",
    "    Wing,\n",
    "    FlightCondition,\n",
    "    WingPool,\n",
    "    Simulation,\n",
    "    PostProcessing,\n",
    "    load_folder\n",
    ")"
   ]
  },
  {
   "cell_type": "markdown",
   "metadata": {},
   "source": [
    "## Load airfoils"
   ]
  },
  {
   "cell_type": "code",
   "execution_count": 36,
   "metadata": {},
   "outputs": [
    {
     "name": "stdout",
     "output_type": "stream",
     "text": [
      "{'NACA4424': {'3E6': {'cl_list': array([[-12.5  ,  -0.775],\n",
      "       [-10.5  ,  -0.593],\n",
      "       [ -8.4  ,  -0.449],\n",
      "       [ -6.5  ,  -0.227],\n",
      "       [ -4.5  ,  -0.054],\n",
      "       [ -2.4  ,   0.148],\n",
      "       [ -0.5  ,   0.346],\n",
      "       [  1.4  ,   0.548],\n",
      "       [  3.3  ,   0.736],\n",
      "       [  5.4  ,   0.874],\n",
      "       [  7.7  ,   1.022],\n",
      "       [  8.7  ,   1.111],\n",
      "       [  9.7  ,   1.17 ],\n",
      "       [ 11.9  ,   1.24 ],\n",
      "       [ 13.8  ,   1.269],\n",
      "       [ 17.9  ,   1.22 ],\n",
      "       [ 22.2  ,   1.22 ],\n",
      "       [ 20.2  ,   1.21 ]]), 'cl_alpha': 0.0739701222272521, 'cl0': 0.4658329560887278, 'cm0': -0.2942, 'clmax': 1.269}, '6E6': {'cl_list': array([[-16.4  ,  -0.825],\n",
      "       [-14.4  ,  -0.854],\n",
      "       [-12.5  ,  -0.825],\n",
      "       [-10.7  ,  -0.627],\n",
      "       [ -6.4  ,  -0.262],\n",
      "       [ -4.5  ,  -0.044],\n",
      "       [ -2.7  ,   0.153],\n",
      "       [ -0.4  ,   0.351],\n",
      "       [  1.4  ,   0.548],\n",
      "       [  3.5  ,   0.736],\n",
      "       [  8.   ,   1.062],\n",
      "       [ 10.9  ,   1.22 ],\n",
      "       [ 11.9  ,   1.289],\n",
      "       [ 14.9  ,   1.249],\n",
      "       [ 16.   ,   1.23 ],\n",
      "       [ 18.1  ,   1.22 ],\n",
      "       [ 20.3  ,   1.22 ],\n",
      "       [ 22.1  ,   1.175],\n",
      "       [ 24.2  ,   1.21 ]]), 'cl_alpha': 0.07701846965699212, 'cl0': 0.4508205804749337, 'cm0': -0.2942, 'clmax': 1.289}, '9E6': {'cl_list': array([[-12.3  ,  -0.809],\n",
      "       [-10.4  ,  -0.618],\n",
      "       [ -4.5  ,  -0.045],\n",
      "       [ -2.5  ,   0.155],\n",
      "       [ -0.5  ,   0.355],\n",
      "       [  1.4  ,   0.545],\n",
      "       [  3.5  ,   0.736],\n",
      "       [  4.4  ,   0.836],\n",
      "       [  7.8  ,   1.082],\n",
      "       [  5.6  ,   0.932],\n",
      "       [  9.7  ,   1.2  ],\n",
      "       [ 11.8  ,   1.318],\n",
      "       [ 12.7  ,   1.318],\n",
      "       [ 14.8  ,   1.345],\n",
      "       [ 15.8  ,   1.364],\n",
      "       [ 16.8  ,   1.277],\n",
      "       [ 17.9  ,   1.268]]), 'cl_alpha': 0.08460109193377957, 'cl0': 0.44211104262064094, 'cm0': -0.2942, 'clmax': 1.364}}, 'NACA4412': {'3E6': {'cl_list': array([[-10.3  ,  -0.684],\n",
      "       [ -8.4  ,  -0.472],\n",
      "       [ -6.3  ,  -0.272],\n",
      "       [ -4.4  ,  -0.04 ],\n",
      "       [ -2.2  ,   0.176],\n",
      "       [ -0.3  ,   0.408],\n",
      "       [  1.8  ,   0.612],\n",
      "       [  3.7  ,   0.84 ],\n",
      "       [  5.8  ,   1.04 ],\n",
      "       [  7.6  ,   1.188],\n",
      "       [  9.6  ,   1.34 ],\n",
      "       [ 11.8  ,   1.452],\n",
      "       [ 13.2  ,   1.54 ],\n",
      "       [ 15.   ,   1.468],\n",
      "       [ 16.2  ,   1.408],\n",
      "       [ 18.1  ,   1.336],\n",
      "       [ 20.2  ,   1.276]]), 'cl_alpha': 0.09893049533569834, 'cl0': 0.45255340953882534, 'cm0': -0.3855, 'clmax': 1.54}, '6E6': {'cl_list': array([[-16.9  ,  -0.644],\n",
      "       [-14.7  ,  -0.752],\n",
      "       [-12.6  ,  -0.812],\n",
      "       [-10.4  ,  -0.692],\n",
      "       [ -8.4  ,  -0.48 ],\n",
      "       [ -6.3  ,  -0.268],\n",
      "       [ -4.3  ,  -0.04 ],\n",
      "       [ -2.2  ,   0.168],\n",
      "       [ -0.3  ,   0.408],\n",
      "       [  1.8  ,   0.612],\n",
      "       [  3.7  ,   0.836],\n",
      "       [  5.9  ,   1.036],\n",
      "       [  7.7  ,   1.184],\n",
      "       [  9.6  ,   1.336],\n",
      "       [ 11.9  ,   1.552],\n",
      "       [ 13.8  ,   1.632],\n",
      "       [ 15.   ,   1.656],\n",
      "       [ 16.2  ,   1.612],\n",
      "       [ 18.2  ,   1.48 ],\n",
      "       [ 20.3  ,   1.34 ]]), 'cl_alpha': 0.0962955491110831, 'cl0': 0.4571887529945779, 'cm0': -0.3855, 'clmax': 1.656}, '9E6': {'cl_list': array([[-10.3  ,  -0.696],\n",
      "       [ -8.4  ,  -0.464],\n",
      "       [ -6.2  ,  -0.272],\n",
      "       [ -4.3  ,  -0.04 ],\n",
      "       [ -2.2  ,   0.176],\n",
      "       [ -0.3  ,   0.416],\n",
      "       [  1.7  ,   0.608],\n",
      "       [  3.6  ,   0.84 ],\n",
      "       [  5.8  ,   1.036],\n",
      "       [  7.7  ,   1.252],\n",
      "       [  9.7  ,   1.424],\n",
      "       [ 11.9  ,   1.572],\n",
      "       [ 13.8  ,   1.688],\n",
      "       [ 16.   ,   1.676],\n",
      "       [ 17.   ,   1.664],\n",
      "       [ 18.2  ,   1.664],\n",
      "       [ 20.3  ,   1.532]]), 'cl_alpha': 0.10517140058765918, 'cl0': 0.4396944172380012, 'cm0': -0.3855, 'clmax': 1.688}}}\n"
     ]
    }
   ],
   "source": [
    "airfoils_data, _ = load_folder(\"../sample_airfoils\")\n",
    "print(airfoils_data)"
   ]
  },
  {
   "cell_type": "markdown",
   "metadata": {},
   "source": [
    "## Create wing"
   ]
  },
  {
   "cell_type": "code",
   "execution_count": 37,
   "metadata": {},
   "outputs": [],
   "source": [
    "wing = Wing(\n",
    "    spans = [1, 0.5],\n",
    "    chords = [1, 0.5, 0.4],\n",
    "    offsets = [0, 0.125, 0.025],\n",
    "    twist_angles = [0, 0, 0],\n",
    "    dihedral_angles= [0, 0, 0],\n",
    "    airfoils = [\"NACA4412\", \"NACA4412\", \"NACA4412\"],\n",
    "    surface_name=\"wing\",\n",
    "    N_panels=12,\n",
    "    distribution_type=\"cosine\",\n",
    "    sweep_check=False\n",
    ")\n",
    "wing.generate_mesh() # Generate wing simulation elements"
   ]
  },
  {
   "cell_type": "markdown",
   "metadata": {},
   "source": [
    "## Create flight condition"
   ]
  },
  {
   "cell_type": "code",
   "execution_count": 38,
   "metadata": {},
   "outputs": [],
   "source": [
    "flight_condition = FlightCondition(\n",
    "    V_inf = 20,\n",
    "    nu = 1.5e-5,\n",
    "    rho = 1.225,\n",
    "    angles_of_attack = [i for i in range(15)],\n",
    "    h = 0,\n",
    "    ground_effect_check = False,\n",
    "    angular_velocity=[0, 0, 0]\n",
    ")\n",
    "wing.setup_airfoil_data(flight_condition, airfoils_data)  # Assign airfoil data to wing"
   ]
  },
  {
   "cell_type": "markdown",
   "metadata": {},
   "source": [
    "## Setup simulation"
   ]
  },
  {
   "cell_type": "code",
   "execution_count": 39,
   "metadata": {},
   "outputs": [
    {
     "name": "stdout",
     "output_type": "stream",
     "text": [
      "Running simulation for angles between 0 and 14\n",
      "Linear simulation check: False\n",
      "Found solution for angle 0\n",
      "number of iterations: 20\n",
      "Found solution for angle 1\n",
      "number of iterations: 15\n",
      "Found solution for angle 2\n",
      "number of iterations: 15\n",
      "Found solution for angle 3\n",
      "number of iterations: 15\n",
      "Found solution for angle 4\n",
      "number of iterations: 15\n",
      "Found solution for angle 5\n",
      "number of iterations: 15\n",
      "Found solution for angle 6\n",
      "number of iterations: 15\n",
      "Found solution for angle 7\n",
      "number of iterations: 15\n",
      "Found solution for angle 8\n",
      "number of iterations: 14\n",
      "Found solution for angle 9\n",
      "number of iterations: 14\n",
      "Found solution for angle 10\n",
      "number of iterations: 14\n",
      "Found solution for angle 11\n",
      "number of iterations: 13\n",
      "Found solution for angle 12\n",
      "number of iterations: 14\n",
      "Reached max iterations for angle 13\n",
      "Found solution for angle 14\n",
      "number of iterations: 50\n"
     ]
    }
   ],
   "source": [
    "# Link wing that will be simulated with flight condition\n",
    "wing_pool = WingPool(\n",
    "    wing_list = [wing],\n",
    "    flight_condition = flight_condition,\n",
    "    moment_ref=[0, 0, 0]\n",
    ")\n",
    "\n",
    "simulation = Simulation(\n",
    "    damping_factor = 0.4,\n",
    "    max_iter = 100,\n",
    "    max_residual = 1e-4,\n",
    "    linear_check = False,\n",
    "    show_logs = True,\n",
    "    simulation_mode = \"latest_solution\" # Solves linear version of equations before doing non linear simulation to speed up process\n",
    ")\n",
    "\n",
    "# Run simulation\n",
    "\n",
    "simulation_results = simulation.run(wing_pool)"
   ]
  },
  {
   "cell_type": "markdown",
   "metadata": {},
   "source": [
    "## Post Process simulation and get Aerodynamic Coefficients"
   ]
  },
  {
   "cell_type": "code",
   "execution_count": 40,
   "metadata": {},
   "outputs": [
    {
     "data": {
      "text/plain": [
       "Text(0.5, 0, 'Angle of attack')"
      ]
     },
     "execution_count": 40,
     "metadata": {},
     "output_type": "execute_result"
    },
    {
     "data": {
      "image/png": "[encoded data removed]",
      "text/plain": [
       "<Figure size 640x480 with 1 Axes>"
      ]
     },
     "metadata": {},
     "output_type": "display_data"
    }
   ],
   "source": [
    "import matplotlib.pyplot as plt\n",
    "\n",
    "post_processing = PostProcessing()\n",
    "coefficients = post_processing.get_coefficients(wing_pool, simulation_results)\n",
    "\n",
    "CL_list = []\n",
    "CM_list = []\n",
    "CD_list = []\n",
    "\n",
    "for coef in coefficients:\n",
    "    CL_list.append(coef.global_coefficients.forces[2])\n",
    "    CM_list.append(coef.global_coefficients.moments[1])\n",
    "    CD_list.append(coef.global_coefficients.forces[0])\n",
    "\n",
    "\n",
    "plt.scatter(flight_condition.angles_of_attack, CL_list)\n",
    "plt.ylabel(\"CL\")\n",
    "plt.xlabel(\"Angle of attack\")"
   ]
  }
 ],
 "metadata": {
  "kernelspec": {
   "display_name": "venv",
   "language": "python",
   "name": "python3"
  },
  "language_info": {
   "codemirror_mode": {
    "name": "ipython",
    "version": 3
   },
   "file_extension": ".py",
   "mimetype": "text/x-python",
   "name": "python",
   "nbconvert_exporter": "python",
   "pygments_lexer": "ipython3",
   "version": "3.10.12"
  }
 },
 "nbformat": 4,
 "nbformat_minor": 2
}
