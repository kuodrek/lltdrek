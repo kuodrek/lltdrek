{
 "cells": [
  {
   "cell_type": "code",
   "execution_count": 1,
   "metadata": {},
   "outputs": [
    {
     "name": "stdout",
     "output_type": "stream",
     "text": [
      "[wing, wing_mirrored]\n",
      "Running simulation for angles between 0 and 0\n",
      "Linear simulation check: False\n",
      "Found solution for angle 0\n",
      "number of iterations: 15\n"
     ]
    }
   ],
   "source": [
    "import sys\n",
    "import os\n",
    "sys.path.append(os.path.abspath(\"..\"))\n",
    "from src import Wing, FlightCondition, WingPool, Simulation, PostProcessing, load_folder\n",
    "\n",
    "airfoils_data, _ = load_folder(\"../sample_airfoils\")\n",
    "\n",
    "wing = Wing(\n",
    "    spans=[1, 0.5],\n",
    "    chords=[1, 0.5, 0.4],\n",
    "    offsets=[0, 0, 0],\n",
    "    twist_angles=[0, 0, 0],\n",
    "    dihedral_angles=[0, 0, 0],\n",
    "    airfoils=[\"NACA4424\", \"NACA4424\", \"NACA4412\"],\n",
    "    surface_name=\"wing\",\n",
    "    N_panels=12,\n",
    "    distribution_type=\"cosine\",\n",
    "    sweep_check=False,\n",
    ")\n",
    "wing.generate_mesh()  # Generate wing simulation elements\n",
    "flight_condition = FlightCondition(\n",
    "    V_inf=20,\n",
    "    nu=1.5e-5,\n",
    "    rho=1.225,\n",
    "    angles_of_attack=[alpha for alpha in range(1)],\n",
    "    h=0,\n",
    "    ground_effect_check=False,\n",
    ")\n",
    "wing.setup_airfoil_data(flight_condition, airfoils_data)  # Assign airfoil data to wing\n",
    "\n",
    "# Link wing that will be simulated with flight condition\n",
    "wing_pool = WingPool(wing_list=[wing], flight_condition=flight_condition)\n",
    "\n",
    "simulation = Simulation(\n",
    "    damping_factor=0.5,\n",
    "    max_iter=300,\n",
    "    max_residual=1e-4,\n",
    "    linear_check=False,\n",
    "    show_logs=True,\n",
    "    simulation_mode=\"latest_solution\",  # Solves linear version of equations before doing non linear simulation to speed up process\n",
    ")\n",
    "\n",
    "# Run simulation\n",
    "simulation_results = simulation.run(wing_pool)"
   ]
  },
  {
   "cell_type": "code",
   "execution_count": 3,
   "metadata": {},
   "outputs": [
    {
     "name": "stdout",
     "output_type": "stream",
     "text": [
      "Coefficients(forces=array([ 4.31095964e-03, -6.23416249e-19,  3.03485054e-01]), moments=array([ 0.        , -0.37971982,  0.        ]), cl_distribution={})\n",
      "{'wing': Coefficients(forces=array([0.00215548, 0.00021534, 0.15174253]), moments=array([ 0.11978017, -0.18985991, -0.0023641 ]), cl_distribution=array([0.43775726, 0.36961503, 0.33633051, 0.31834189, 0.30634427,\n",
      "       0.29523405, 0.28237413, 0.26742476, 0.26877524, 0.26609314,\n",
      "       0.22081422, 0.09946055])), 'wing_mirrored': Coefficients(forces=array([ 0.00215548, -0.00021534,  0.15174253]), moments=array([-0.11978017, -0.18985991,  0.0023641 ]), cl_distribution=array([0.43775726, 0.36961503, 0.33633051, 0.31834189, 0.30634427,\n",
      "       0.29523405, 0.28237413, 0.26742476, 0.26877524, 0.26609314,\n",
      "       0.22081422, 0.09946055]))}\n"
     ]
    }
   ],
   "source": [
    "post_processing = PostProcessing()\n",
    "coefficients = post_processing.get_coefficients(wing_pool, simulation_results)\n",
    "\n",
    "print(coefficients[0].global_coefficients)\n",
    "print(coefficients[0].surface_coefficients)"
   ]
  },
  {
   "cell_type": "code",
   "execution_count": 5,
   "metadata": {},
   "outputs": [
    {
     "data": {
      "text/plain": [
       "{'wing': {'CF': array([ 4.31095964e-03, -6.23416249e-19,  3.03485054e-01]),\n",
       "  'CM': array([ 0.23956034, -0.37971982, -0.00483172]),\n",
       "  'Cl_distr': {'wing': array([0.43775726, 0.36961503, 0.33633051, 0.31834189, 0.30634427,\n",
       "          0.29523405, 0.28237413, 0.26742476, 0.26877524, 0.26609314,\n",
       "          0.22081422, 0.09946055]),\n",
       "   'wing_mirrored': array([0.43775726, 0.36961503, 0.33633051, 0.31834189, 0.30634427,\n",
       "          0.29523405, 0.28237413, 0.26742476, 0.26877524, 0.26609314,\n",
       "          0.22081422, 0.09946055])}}}"
      ]
     },
     "execution_count": 5,
     "metadata": {},
     "output_type": "execute_result"
    }
   ],
   "source": [
    "coefficients_old = post_processing.get_wing_coefficients(wing_pool, simulation_results[0].G_solution, 0, wing_pool.S_ref, wing_pool.c_ref)\n",
    "coefficients_old"
   ]
  }
 ],
 "metadata": {
  "kernelspec": {
   "display_name": "venv",
   "language": "python",
   "name": "python3"
  },
  "language_info": {
   "codemirror_mode": {
    "name": "ipython",
    "version": 3
   },
   "file_extension": ".py",
   "mimetype": "text/x-python",
   "name": "python",
   "nbconvert_exporter": "python",
   "pygments_lexer": "ipython3",
   "version": "3.10.16"
  }
 },
 "nbformat": 4,
 "nbformat_minor": 2
}
