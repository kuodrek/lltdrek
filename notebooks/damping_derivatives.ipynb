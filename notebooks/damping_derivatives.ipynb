{
 "cells": [
  {
   "cell_type": "markdown",
   "metadata": {},
   "source": [
    "# Get damping derivatives by adding additional velocities into v_inf"
   ]
  },
  {
   "cell_type": "code",
   "execution_count": 66,
   "metadata": {},
   "outputs": [
    {
     "name": "stdout",
     "output_type": "stream",
     "text": [
      "[wing, wing_mirrored, eh, eh_mirrored]\n"
     ]
    }
   ],
   "source": [
    "import sys\n",
    "import os\n",
    "sys.path.append(os.path.abspath(\"..\"))\n",
    "from src import Wing, FlightCondition, WingPool, Simulation, PostProcessing, load_folder\n",
    "\n",
    "airfoils_data, _ = load_folder(\"sample_airfoils\")\n",
    "# print(airfoils_data)\n",
    "\n",
    "wing = Wing(\n",
    "    spans=[1, 1],\n",
    "    chords=[1, 1, 1],\n",
    "    offsets=[0, 0.1, 0.2],\n",
    "    twist_angles=[0, 0, 0],\n",
    "    dihedral_angles=[0, 0, 0],\n",
    "    airfoils=[\"NACA4424\", \"NACA4424\", \"NACA4412\"],\n",
    "    surface_name=\"wing\",\n",
    "    N_panels=4,\n",
    "    distribution_type=\"cosine\",\n",
    "    sweep_check=False,\n",
    ")\n",
    "wing.generate_mesh()  # Generate wing simulation elements\n",
    "\n",
    "eh = Wing(\n",
    "    spans=[1, 1],\n",
    "    chords=[1, 1, 1],\n",
    "    offsets=[0, 0.1, 0.2],\n",
    "    twist_angles=[0, 0, 0],\n",
    "    dihedral_angles=[0, 0, 0],\n",
    "    airfoils=[\"NACA4424\", \"NACA4424\", \"NACA4412\"],\n",
    "    surface_name=\"eh\",\n",
    "    N_panels=4,\n",
    "    distribution_type=\"cosine\",\n",
    "    sweep_check=False,\n",
    "    x_pos=5\n",
    ")\n",
    "eh.generate_mesh()  # Generate wing simulation elements\n",
    "\n",
    "flight_condition = FlightCondition(\n",
    "    V_inf=20,\n",
    "    nu=1.5e-5,\n",
    "    rho=1.225,\n",
    "    angles_of_attack=[alpha for alpha in range(1)],\n",
    "    h=0,\n",
    "    ground_effect_check=False,\n",
    ")\n",
    "wing.setup_airfoil_data(flight_condition, airfoils_data)  # Assign airfoil data to wing\n",
    "eh.setup_airfoil_data(flight_condition, airfoils_data)\n",
    "\n",
    "# Link wing that will be simulated with flight condition\n",
    "wing_pool = WingPool(wing_list=[wing, eh], flight_condition=flight_condition, moment_ref=[3, 0, 0])"
   ]
  },
  {
   "cell_type": "code",
   "execution_count": 67,
   "metadata": {},
   "outputs": [
    {
     "name": "stdout",
     "output_type": "stream",
     "text": [
      "{'wing': array([[-2.73535534,  0.14644661,  0.        ],\n",
      "       [-2.66464466,  0.85355339,  0.        ],\n",
      "       [-2.63535534,  1.14644661,  0.        ],\n",
      "       [-2.56464466,  1.85355339,  0.        ]]), 'wing_mirrored': array([[-2.73535534, -0.14644661,  0.        ],\n",
      "       [-2.66464466, -0.85355339,  0.        ],\n",
      "       [-2.63535534, -1.14644661,  0.        ],\n",
      "       [-2.56464466, -1.85355339,  0.        ]]), 'eh': array([[2.26464466, 0.14644661, 0.        ],\n",
      "       [2.33535534, 0.85355339, 0.        ],\n",
      "       [2.36464466, 1.14644661, 0.        ],\n",
      "       [2.43535534, 1.85355339, 0.        ]]), 'eh_mirrored': array([[ 2.26464466, -0.14644661,  0.        ],\n",
      "       [ 2.33535534, -0.85355339,  0.        ],\n",
      "       [ 2.36464466, -1.14644661,  0.        ],\n",
      "       [ 2.43535534, -1.85355339,  0.        ]])}\n"
     ]
    }
   ],
   "source": [
    "v_inf_array = flight_condition.v_inf_list[0]\n",
    "moment_ref = wing_pool.system_moment_ref\n",
    "print(moment_ref)"
   ]
  },
  {
   "cell_type": "code",
   "execution_count": 68,
   "metadata": {},
   "outputs": [
    {
     "name": "stdout",
     "output_type": "stream",
     "text": [
      "(4, 3)\n",
      "(1, 3)\n",
      "[[-2.73535534  0.14644661  0.        ]\n",
      " [-2.66464466  0.85355339  0.        ]\n",
      " [-2.63535534  1.14644661  0.        ]\n",
      " [-2.56464466  1.85355339  0.        ]]\n",
      "[[ 0.          0.         -2.73535534]\n",
      " [ 0.          0.         -2.66464466]\n",
      " [ 0.          0.         -2.63535534]\n",
      " [ 0.          0.         -2.56464466]]\n",
      "for loop\n",
      "[[ 0.          0.         -2.73535534]]\n",
      "[[ 0.          0.         -2.66464466]]\n",
      "[[ 0.          0.         -2.63535534]]\n",
      "[[ 0.          0.         -2.56464466]]\n",
      "[[0 1 0]]\n"
     ]
    }
   ],
   "source": [
    "import numpy as np\n",
    "import numpy.linalg as npla\n",
    "\n",
    "ref = moment_ref[\"wing\"]\n",
    "angular_vector = np.array([0, 1, 0])[np.newaxis, :]\n",
    "\n",
    "print(ref.shape)\n",
    "print(angular_vector.shape)\n",
    "\n",
    "angular_velocity = np.cross(ref, angular_vector)\n",
    "\n",
    "print(ref)\n",
    "print(angular_velocity)\n",
    "\n",
    "print(\"for loop\")\n",
    "for i in ref:\n",
    "    print(np.cross(i, angular_vector))\n",
    "\n",
    "print(angular_vector)"
   ]
  },
  {
   "cell_type": "code",
   "execution_count": 69,
   "metadata": {},
   "outputs": [
    {
     "name": "stdout",
     "output_type": "stream",
     "text": [
      "wing: \n",
      "[[ 0.         -0.          2.73535534]\n",
      " [ 0.         -0.          2.66464466]\n",
      " [ 0.         -0.          2.63535534]\n",
      " [ 0.         -0.          2.56464466]]\n",
      "\n",
      "\n",
      "wing_mirrored: \n",
      "[[ 0.         -0.          2.73535534]\n",
      " [ 0.         -0.          2.66464466]\n",
      " [ 0.         -0.          2.63535534]\n",
      " [ 0.         -0.          2.56464466]]\n",
      "\n",
      "\n",
      "eh: \n",
      "[[ 0.          0.         -2.26464466]\n",
      " [ 0.          0.         -2.33535534]\n",
      " [ 0.          0.         -2.36464466]\n",
      " [ 0.          0.         -2.43535534]]\n",
      "\n",
      "\n",
      "eh_mirrored: \n",
      "[[ 0.          0.         -2.26464466]\n",
      " [ 0.          0.         -2.33535534]\n",
      " [ 0.          0.         -2.36464466]\n",
      " [ 0.          0.         -2.43535534]]\n",
      "\n",
      "\n"
     ]
    }
   ],
   "source": [
    "import numpy as np\n",
    "import numpy.linalg as npla\n",
    "\n",
    "# following the relation V = w * r\n",
    "def get_angular_velocity(system_moment_ref, angular_vector) -> np.ndarray:\n",
    "    system_angular_velocities = {}\n",
    "    for wing, ref in system_moment_ref.items():\n",
    "        system_angular_velocities[wing] = np.cross(angular_vector, ref)\n",
    "    return system_angular_velocities\n",
    "\n",
    "ref = moment_ref[\"wing\"]\n",
    "angular_vector = np.array([0, 1, 0])[np.newaxis, :]\n",
    "\n",
    "system_angular_velocities = get_angular_velocity(moment_ref, angular_vector)\n",
    "for wing, velocities in system_angular_velocities.items():\n",
    "    print(f'{wing}: \\n{velocities}\\n\\n')"
   ]
  }
 ],
 "metadata": {
  "kernelspec": {
   "display_name": "venv",
   "language": "python",
   "name": "python3"
  },
  "language_info": {
   "codemirror_mode": {
    "name": "ipython",
    "version": 3
   },
   "file_extension": ".py",
   "mimetype": "text/x-python",
   "name": "python",
   "nbconvert_exporter": "python",
   "pygments_lexer": "ipython3",
   "version": "3.10.16"
  }
 },
 "nbformat": 4,
 "nbformat_minor": 2
}
