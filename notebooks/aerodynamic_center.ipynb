{
 "cells": [
  {
   "cell_type": "markdown",
   "metadata": {},
   "source": [
    "# Debug get_aerodynamic_center method"
   ]
  },
  {
   "cell_type": "code",
   "execution_count": null,
   "metadata": {},
   "outputs": [
    {
     "name": "stdout",
     "output_type": "stream",
     "text": [
      "Running simulation for angles between 5 and 8\n",
      "Linear simulation check: False\n",
      "Found solution for angle 5\n",
      "number of iterations: 10\n",
      "Found solution for angle 6\n",
      "number of iterations: 10\n",
      "Found solution for angle 7\n",
      "number of iterations: 9\n",
      "Found solution for angle 8\n",
      "number of iterations: 9\n"
     ]
    }
   ],
   "source": [
    "import sys\n",
    "import os\n",
    "sys.path.append(os.path.abspath(\"..\"))\n",
    "from lltdrek import Wing, FlightCondition, WingPool, Simulation, PostProcessing, load_folder\n",
    "\n",
    "airfoils_data, _ = load_folder(\"../sample_airfoils\")\n",
    "# print(airfoils_data)\n",
    "\n",
    "wing = Wing(\n",
    "    spans=[1, 1],\n",
    "    chords=[1, 1, 1],\n",
    "    offsets=[0, 0, 0],\n",
    "    twist_angles=[0, 0, 0],\n",
    "    dihedral_angles=[0, 0, 0],\n",
    "    airfoils=[\"NACA4424\", \"NACA4424\", \"NACA4412\"],\n",
    "    surface_name=\"wing\",\n",
    "    N_panels=4,\n",
    "    distribution_type=\"cosine\",\n",
    "    sweep_check=False,\n",
    ")\n",
    "wing.generate_mesh()  # Generate wing simulation elements\n",
    "\n",
    "eh = Wing(\n",
    "    spans=[1, 1],\n",
    "    chords=[1, 1, 1],\n",
    "    offsets=[0, 0, 0],\n",
    "    twist_angles=[0, 0, 0],\n",
    "    dihedral_angles=[0, 0, 0],\n",
    "    airfoils=[\"NACA4424\", \"NACA4424\", \"NACA4412\"],\n",
    "    surface_name=\"eh\",\n",
    "    N_panels=4,\n",
    "    distribution_type=\"cosine\",\n",
    "    sweep_check=False,\n",
    "    x_pos=5\n",
    ")\n",
    "eh.generate_mesh()  # Generate wing simulation elements\n",
    "\n",
    "flight_condition = FlightCondition(\n",
    "    V_inf=60,\n",
    "    nu=1.5e-5,\n",
    "    rho=1.225,\n",
    "    angles_of_attack=[5, 6, 7, 8],\n",
    "    h=0,\n",
    "    ground_effect_check=False,\n",
    "    angular_velocity=[0, 0, 0]\n",
    ")\n",
    "wing.setup_airfoil_data(flight_condition, airfoils_data)  # Assign airfoil data to wing\n",
    "eh.setup_airfoil_data(flight_condition, airfoils_data)\n",
    "\n",
    "# Link wing that will be simulated with flight condition\n",
    "wing_pool = WingPool(wing_list=[wing], flight_condition=flight_condition, moment_ref=[0.5, 0, 0])\n",
    "\n",
    "simulation = Simulation(\n",
    "    damping_factor = 0.5,\n",
    "    max_iter = 100,\n",
    "    max_residual = 1e-4,\n",
    "    linear_check = False,\n",
    "    show_logs = True,\n",
    "    simulation_mode = \"linear_first\" # Solves linear version of equations before doing non linear simulation to speed up process\n",
    ")\n",
    "\n",
    "# Run simulation\n",
    "\n",
    "simulation_results = simulation.run(wing_pool)"
   ]
  },
  {
   "cell_type": "code",
   "execution_count": 5,
   "metadata": {},
   "outputs": [],
   "source": [
    "post_processing = PostProcessing()\n",
    "aerodynamic_center = post_processing.get_aerodynamic_center(wing_pool, simulation_results)"
   ]
  }
 ],
 "metadata": {
  "kernelspec": {
   "display_name": "venv",
   "language": "python",
   "name": "python3"
  },
  "language_info": {
   "codemirror_mode": {
    "name": "ipython",
    "version": 3
   },
   "file_extension": ".py",
   "mimetype": "text/x-python",
   "name": "python",
   "nbconvert_exporter": "python",
   "pygments_lexer": "ipython3",
   "version": "3.10.12"
  }
 },
 "nbformat": 4,
 "nbformat_minor": 2
}
